{
 "cells": [
  {
   "cell_type": "code",
   "execution_count": 1,
   "id": "30e7c947",
   "metadata": {
    "_cell_guid": "b1076dfc-b9ad-4769-8c92-a6c4dae69d19",
    "_uuid": "8f2839f25d086af736a60e9eeb907d3b93b6e0e5",
    "execution": {
     "iopub.execute_input": "2024-10-19T15:38:01.486881Z",
     "iopub.status.busy": "2024-10-19T15:38:01.486460Z",
     "iopub.status.idle": "2024-10-19T15:38:10.144223Z",
     "shell.execute_reply": "2024-10-19T15:38:10.143043Z"
    },
    "papermill": {
     "duration": 8.665403,
     "end_time": "2024-10-19T15:38:10.147084",
     "exception": false,
     "start_time": "2024-10-19T15:38:01.481681",
     "status": "completed"
    },
    "tags": []
   },
   "outputs": [],
   "source": [
    "# This Python 3 environment comes with many helpful analytics libraries installed\n",
    "# It is defined by the kaggle/python Docker image: https://github.com/kaggle/docker-python\n",
    "# For example, here's several helpful packages to load\n",
    "\n",
    "import torch\n",
    "import timm\n",
    "import pandas as pd\n",
    "import os\n",
    "from torch.utils.data import Dataset,DataLoader\n",
    "from PIL import Image\n",
    "from torchvision.transforms import transforms\n",
    "# Input data files are available in the read-only \"../input/\" directory\n",
    "# For example, running this (by clicking run or pressing Shift+Enter) will list all files under the input directory\n",
    "\n",
    "# You can write up to 20GB to the current directory (/kaggle/working/) that gets preserved as output when you create a version using \"Save & Run All\" \n",
    "# You can also write temporary files to /kaggle/temp/, but they won't be saved outside of the current session"
   ]
  },
  {
   "cell_type": "code",
   "execution_count": 2,
   "id": "6e586c72",
   "metadata": {
    "execution": {
     "iopub.execute_input": "2024-10-19T15:38:10.154788Z",
     "iopub.status.busy": "2024-10-19T15:38:10.154162Z",
     "iopub.status.idle": "2024-10-19T15:38:10.159966Z",
     "shell.execute_reply": "2024-10-19T15:38:10.158874Z"
    },
    "papermill": {
     "duration": 0.012214,
     "end_time": "2024-10-19T15:38:10.162374",
     "exception": false,
     "start_time": "2024-10-19T15:38:10.150160",
     "status": "completed"
    },
    "tags": []
   },
   "outputs": [],
   "source": [
    "transform = transforms.Compose([\n",
    "    transforms.Resize((224, 224)),\n",
    "    transforms.ToTensor(),\n",
    "    transforms.Normalize(mean=[0.485, 0.456, 0.406], std=[0.229, 0.224, 0.225]),\n",
    "])"
   ]
  },
  {
   "cell_type": "code",
   "execution_count": 3,
   "id": "3a96d64b",
   "metadata": {
    "execution": {
     "iopub.execute_input": "2024-10-19T15:38:10.169665Z",
     "iopub.status.busy": "2024-10-19T15:38:10.168947Z",
     "iopub.status.idle": "2024-10-19T15:38:10.176588Z",
     "shell.execute_reply": "2024-10-19T15:38:10.175293Z"
    },
    "papermill": {
     "duration": 0.013828,
     "end_time": "2024-10-19T15:38:10.178890",
     "exception": false,
     "start_time": "2024-10-19T15:38:10.165062",
     "status": "completed"
    },
    "tags": []
   },
   "outputs": [],
   "source": [
    "class loader(Dataset):\n",
    "    def __init__(self,ROOT,transform):\n",
    "        self.data = annotation = pd.read_csv(os.path.join(ROOT,'test.csv'))[\"path\"].values\n",
    "        self.ROOT = ROOT\n",
    "        self.transform = transform\n",
    "    def __len__(self):\n",
    "        return len(self.data)\n",
    "    def __getitem__(self,idx):\n",
    "        id = self.data[idx].split('/')[-1]\n",
    "        path = os.path.join(ROOT,'test/test_images',id)\n",
    "        img = transform(Image.open(path).convert('RGB'))\n",
    "        return img"
   ]
  },
  {
   "cell_type": "code",
   "execution_count": 4,
   "id": "52212bab",
   "metadata": {
    "execution": {
     "iopub.execute_input": "2024-10-19T15:38:10.186075Z",
     "iopub.status.busy": "2024-10-19T15:38:10.185671Z",
     "iopub.status.idle": "2024-10-19T15:38:10.191762Z",
     "shell.execute_reply": "2024-10-19T15:38:10.190341Z"
    },
    "papermill": {
     "duration": 0.012782,
     "end_time": "2024-10-19T15:38:10.194356",
     "exception": false,
     "start_time": "2024-10-19T15:38:10.181574",
     "status": "completed"
    },
    "tags": []
   },
   "outputs": [],
   "source": [
    "ROOT = '/kaggle/input/bird-classification-anokha'"
   ]
  },
  {
   "cell_type": "code",
   "execution_count": 5,
   "id": "2a4676ea",
   "metadata": {
    "execution": {
     "iopub.execute_input": "2024-10-19T15:38:10.201658Z",
     "iopub.status.busy": "2024-10-19T15:38:10.201190Z",
     "iopub.status.idle": "2024-10-19T15:38:10.552864Z",
     "shell.execute_reply": "2024-10-19T15:38:10.551732Z"
    },
    "papermill": {
     "duration": 0.35822,
     "end_time": "2024-10-19T15:38:10.555350",
     "exception": false,
     "start_time": "2024-10-19T15:38:10.197130",
     "status": "completed"
    },
    "tags": []
   },
   "outputs": [
    {
     "name": "stdout",
     "output_type": "stream",
     "text": [
      "Model loaded successfully.\n"
     ]
    }
   ],
   "source": [
    "data = loader(ROOT, transform)\n",
    "test_data = DataLoader(data, batch_size=64)\n",
    "\n",
    "PRETRAINED = '/kaggle/input/model-weight/1student_model45.pth'\n",
    "device = torch.device(\"cuda\" if torch.cuda.is_available() else \"cpu\")\n",
    "\n",
    "# Load the EdgeNeXt model\n",
    "model = timm.create_model('edgenext_xx_small', pretrained=False)\n",
    "model.reset_classifier(num_classes=200)\n",
    "model.to(device)\n",
    "\n",
    "# Load the model's state dict correctly\n",
    "checkpoint = torch.load(PRETRAINED, map_location=device,weights_only=True)\n",
    "\n",
    "# If the checkpoint has a 'model_state_dict', use that key\n",
    "if 'model_state_dict' in checkpoint:\n",
    "    model.load_state_dict(checkpoint['model_state_dict'])\n",
    "else:\n",
    "    model.load_state_dict(checkpoint)\n",
    "\n",
    "print(\"Model loaded successfully.\")\n"
   ]
  },
  {
   "cell_type": "code",
   "execution_count": 6,
   "id": "895d30ec",
   "metadata": {
    "execution": {
     "iopub.execute_input": "2024-10-19T15:38:10.562499Z",
     "iopub.status.busy": "2024-10-19T15:38:10.562076Z",
     "iopub.status.idle": "2024-10-19T15:38:44.565650Z",
     "shell.execute_reply": "2024-10-19T15:38:44.563869Z"
    },
    "papermill": {
     "duration": 34.010495,
     "end_time": "2024-10-19T15:38:44.568572",
     "exception": false,
     "start_time": "2024-10-19T15:38:10.558077",
     "status": "completed"
    },
    "tags": []
   },
   "outputs": [],
   "source": [
    "def test_model(model, test_loader):\n",
    "   \n",
    "    predictions = []\n",
    "\n",
    "    with torch.no_grad():\n",
    "        for images in test_loader:\n",
    "            images = images.to(device)\n",
    "            outputs = model(images)\n",
    "            _, predicted = torch.max(outputs, 1)\n",
    "            predictions.extend(predicted.cpu().numpy())\n",
    "\n",
    "    return predictions\n",
    "\n",
    "\n",
    "predictions = test_model(model, test_data)\n",
    "\n",
    "test_df = pd.read_csv('/kaggle/input/bird-classification-anokha/test.csv')\n",
    "test_df=test_df.drop('bbox',axis=1)\n",
    "\n",
    "\n",
    "\n",
    "test_df['class'] = predictions\n",
    "test_df.to_csv('submission.csv', index=False)\n"
   ]
  }
 ],
 "metadata": {
  "kaggle": {
   "accelerator": "none",
   "dataSources": [
    {
     "databundleVersionId": 9871482,
     "sourceId": 86212,
     "sourceType": "competition"
    },
    {
     "datasetId": 5907880,
     "sourceId": 9668285,
     "sourceType": "datasetVersion"
    }
   ],
   "dockerImageVersionId": 30786,
   "isGpuEnabled": false,
   "isInternetEnabled": false,
   "language": "python",
   "sourceType": "notebook"
  },
  "kernelspec": {
   "display_name": "Python 3",
   "language": "python",
   "name": "python3"
  },
  "language_info": {
   "codemirror_mode": {
    "name": "ipython",
    "version": 3
   },
   "file_extension": ".py",
   "mimetype": "text/x-python",
   "name": "python",
   "nbconvert_exporter": "python",
   "pygments_lexer": "ipython3",
   "version": "3.10.14"
  },
  "papermill": {
   "default_parameters": {},
   "duration": 48.490969,
   "end_time": "2024-10-19T15:38:47.075280",
   "environment_variables": {},
   "exception": null,
   "input_path": "__notebook__.ipynb",
   "output_path": "__notebook__.ipynb",
   "parameters": {},
   "start_time": "2024-10-19T15:37:58.584311",
   "version": "2.6.0"
  }
 },
 "nbformat": 4,
 "nbformat_minor": 5
}
